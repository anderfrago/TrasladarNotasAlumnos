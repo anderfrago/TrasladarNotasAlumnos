{
  "nbformat": 4,
  "nbformat_minor": 0,
  "metadata": {
    "colab": {
      "name": "TrasladarNotasAlumnos.ipynb",
      "provenance": [],
      "collapsed_sections": [],
      "authorship_tag": "ABX9TyONh3M7D4sSSNooYBaZ/7Xf",
      "include_colab_link": true
    },
    "kernelspec": {
      "name": "python3",
      "display_name": "Python 3"
    },
    "language_info": {
      "name": "python"
    }
  },
  "cells": [
    {
      "cell_type": "markdown",
      "metadata": {
        "id": "view-in-github",
        "colab_type": "text"
      },
      "source": [
        "<a href=\"https://colab.research.google.com/github/anderfrago/TrasladarNotasAlumnos/blob/main/TrasladarNotasAlumnos.ipynb\" target=\"_parent\"><img src=\"https://colab.research.google.com/assets/colab-badge.svg\" alt=\"Open In Colab\"/></a>"
      ]
    },
    {
      "cell_type": "code",
      "metadata": {
        "colab": {
          "base_uri": "https://localhost:8080/"
        },
        "id": "UAlI5iS4MUr4",
        "collapsed": true,
        "cellView": "form",
        "outputId": "0f01770f-0183-4357-8479-cfe37ee3f130"
      },
      "source": [
        "import os\n",
        "\n",
        "#@title # Trasladar notas a los alumnos\n",
        "#@markdown El siguente Notebook permite trasladar las líneas de un excel al nombre de alumno establecido en la primera columna y compartirlo con el correo de la segunda columna.\n",
        "#@markdown - El listado de alumnos comienza a partir de la línea X.\n",
        "#@markdown - Primera columna nombre del alumno, la cabecera (X primeras líneas) y la línea actual se copia a un excel dentro de una carpeta con este nombre\n",
        "#@markdown - Segunda columna correo del alumno para compartir la carpeta.\n",
        "\n",
        "#@markdown ## Conexión a GDrive\n",
        "#@markdown > Debes acceder al enlace que aparece en la ejecución y copiar la clave en la casilla de introducción.\n",
        "#@markdown ### 1. Montar la unidad de Drive\n",
        "#@markdown Agregamos a unidad de GDrive al ordenador en la nube de GColab\n",
        "from google.colab import drive\n",
        "drive.flush_and_unmount()\n",
        "drive.mount('/content/drive', force_remount=True)"
      ],
      "execution_count": null,
      "outputs": [
        {
          "output_type": "stream",
          "name": "stdout",
          "text": [
            "Drive not mounted, so nothing to flush and unmount.\n",
            "Mounted at /content/drive\n"
          ]
        }
      ]
    },
    {
      "cell_type": "code",
      "metadata": {
        "id": "mrRjSp1WR1kr",
        "cellView": "form"
      },
      "source": [
        "\n",
        "# Import PyDrive and associated libraries.\n",
        "# This only needs to be done once per notebook.\n",
        "from pydrive.auth import GoogleAuth\n",
        "from pydrive.drive import GoogleDrive\n",
        "from google.colab import auth\n",
        "from oauth2client.client import GoogleCredentials\n",
        "\n",
        "#@markdown ### 2. Obteniendo acceso al SDK de Google Drive\n",
        "#@markdown Las herramientas de desarrollo de Google Drive nos va a permitir crear nuevos elementos en GDrive y compartir estos elementos con el alumnado.\n",
        "auth.authenticate_user()\n",
        "gauth = GoogleAuth()\n",
        "gauth.credentials = GoogleCredentials.get_application_default()\n",
        "drive = GoogleDrive(gauth)\n",
        "\n"
      ],
      "execution_count": null,
      "outputs": []
    },
    {
      "cell_type": "code",
      "metadata": {
        "id": "3yDMOKIgSGPE",
        "cellView": "form"
      },
      "source": [
        "#@markdown ## Ubicación en GDrive\n",
        "#@markdown Introduce la ubicación donde se encuentra el EXCEL de notas trasladar a los alumnos.\n",
        "#@markdown *En caso de especificar la ruta completa el proceso será maś rápido*\n",
        "\n",
        "\n",
        "#@markdown ### Introduce la ruta al directorio\n",
        "ruta_directorio = \"/4Vientos/2021/Notak/probak\" #@param {type:\"string\"} \n",
        "path =  \"/content/drive/MyDrive\"+ruta_directorio\n",
        "#@markdown ### Introduce nombre del archivo EXCEL:\n",
        "nombre_excel_notas = \"notak_proba\" #@param {type:\"string\"} \n",
        "filenombre_excel_notas = nombre_excel_notas+'.xlsx'\n",
        "\n",
        "#@markdown ## Cabecera:\n",
        "#@markdown ### Introduce el nombre del archivo plantilla:\n",
        "plantilla_cabecera =  \"plantilla_notak_proba\"#@param {type:\"string\"} \n",
        "#@markdown ### Introduce el número de líneas de cabecera:\n",
        "numero_cabecera =  5#@param {type:\"number\"} \n",
        "# numero_cabecera -= 1\n",
        "\n",
        "listed = drive.ListFile({'q': \"title contains '\"+filenombre_excel_notas+\"'\"}).GetList()\n",
        "# Last modified file\n",
        "file = listed[0]\n",
        "#print(file['id'])\n",
        "file_id = file['id']\n",
        "'''print(file_id)\n",
        "for file in listed:\n",
        "  file_id = file['id']\n",
        "  if(file_id) :\n",
        "      print(file)\n",
        "      print(\"Archivo de notas localizado exitosamente!\")\n",
        "'''\n",
        "downloaded = drive.CreateFile({'id': file_id})\n",
        "downloaded.GetContentFile(filenombre_excel_notas)\n"
      ],
      "execution_count": null,
      "outputs": []
    },
    {
      "cell_type": "code",
      "metadata": {
        "colab": {
          "base_uri": "https://localhost:8080/"
        },
        "id": "8Vdbdd7EP8Mi",
        "cellView": "form",
        "outputId": "b67f08c3-9515-4276-d0d0-b3f86d2d740e"
      },
      "source": [
        "\n",
        "#@markdown ## Copiar notas de manera individual para los alumnos\n",
        "#@markdown A continuación se realiza el proceso de trasladar cada una de las líneas con notas de alumnos a una carpeta con el nombre del alumno.\n",
        "#@markdown En la carpeta se genera un excel y se copian las líneas de cabecera junto la nota del alumno\n",
        "\n",
        "!pip install openpyxl\n",
        "import openpyxl\n",
        "import pandas as pd\n",
        "from shutil import copyfile\n",
        "from openpyxl import load_workbook\n",
        "\n",
        "# Read Excel translate to temporary csv\n",
        "os.chdir('/content')\n",
        "read_file  = pd.read_excel(filenombre_excel_notas)\n",
        "read_file.to_csv (r'tmp.csv', index = None, header=None)\n",
        "df = pd.read_csv('tmp.csv')\n",
        "os.remove('tmp.csv')\n",
        "\n",
        "###\n",
        "## Process of tranlating notes to students folder\n",
        "###\n",
        "for index, row in df.iloc[numero_cabecera-2:].iterrows():\n",
        "  # Get name to create the folder and contact mail\n",
        "  name = row.values[0]  \n",
        "  email = row.values[1]\n",
        "  # Creation of students folder\n",
        "  os.chdir(path)\n",
        "  if not os.path.isdir(name) :\n",
        "      print(\"Primera vez que se trasladan las notas\")\n",
        "      os.mkdir(name)\n",
        "  os.chdir(name)\n",
        "  # Transformar from numpy.ndarray to excel values\n",
        "  row_list = row.values.tolist()\n",
        "  file_name = name+filenombre_excel_notas\n",
        "  ## COPY TEMPLATE\n",
        "  template=\"..//\"+plantilla_cabecera+\".xlsx\"\n",
        "  copyfile(template, file_name)\n",
        "  ## COPY TEMPLATE\n",
        "  # Creation of excel\n",
        "  wb = load_workbook(file_name)\n",
        "  # Select First Worksheet\n",
        "  ws = wb.worksheets[0]\n",
        "  #ws.append(new_row_data) \n",
        "  # Add row in specific index\n",
        "  for idx, val in enumerate(row_list):\n",
        "    ws.cell(row=numero_cabecera+1, column=idx+1, value=val)\n",
        "  wb.save(file_name)\n",
        " "
      ],
      "execution_count": null,
      "outputs": [
        {
          "output_type": "stream",
          "name": "stdout",
          "text": [
            "Requirement already satisfied: openpyxl in /usr/local/lib/python3.7/dist-packages (2.5.9)\n",
            "Requirement already satisfied: et-xmlfile in /usr/local/lib/python3.7/dist-packages (from openpyxl) (1.1.0)\n",
            "Requirement already satisfied: jdcal in /usr/local/lib/python3.7/dist-packages (from openpyxl) (1.4.1)\n",
            "Primera vez que se trasladan las notas\n",
            "Primera vez que se trasladan las notas\n"
          ]
        }
      ]
    },
    {
      "cell_type": "code",
      "metadata": {
        "id": "BLrtRbV8Xkw1",
        "cellView": "form"
      },
      "source": [
        "###\n",
        "## Process of shareing notes with students\n",
        "###\n",
        "for index, row in df.iloc[numero_cabecera-2:].iterrows():\n",
        "  # Get name to create the folder and contact mail\n",
        "  name = row.values[0]  \n",
        "  email = row.values[1]\n",
        "  os.chdir(path)\n",
        "  os.chdir(name)\n",
        "  #@markdown ## Compartir las carpetas con los alumnos\n",
        "  #@markdown Se notificará al usuario vía mail\n",
        "  listed = drive.ListFile({'q': \"title contains '\"+file_name+\"'\"}).GetList()\n",
        "  # Get las modified version\n",
        "  file = listed[0]\n",
        "  try:\n",
        "    file.InsertPermission({'type': 'user','value': email,'role': 'writer'})\n",
        "  except:\n",
        "    print(\"An exception occurred with email\",email)"
      ],
      "execution_count": null,
      "outputs": []
    }
  ]
}