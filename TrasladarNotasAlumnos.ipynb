{
  "nbformat": 4,
  "nbformat_minor": 0,
  "metadata": {
    "colab": {
      "name": "V2_2021_TrasladarNotasAlumnos.ipynb",
      "provenance": [],
      "collapsed_sections": [],
      "authorship_tag": "ABX9TyNGnsaZACmHWWquDhOLdy+1",
      "include_colab_link": true
    },
    "kernelspec": {
      "name": "python3",
      "display_name": "Python 3"
    },
    "language_info": {
      "name": "python"
    }
  },
  "cells": [
    {
      "cell_type": "markdown",
      "metadata": {
        "id": "view-in-github",
        "colab_type": "text"
      },
      "source": [
        "<a href=\"https://colab.research.google.com/github/anderfrago/TrasladarNotasAlumnos/blob/main/TrasladarNotasAlumnos.ipynb\" target=\"_parent\"><img src=\"https://colab.research.google.com/assets/colab-badge.svg\" alt=\"Open In Colab\"/></a>"
      ]
    },
    {
      "cell_type": "code",
      "metadata": {
        "colab": {
          "base_uri": "https://localhost:8080/"
        },
        "cellView": "form",
        "id": "9Esr2-EvmiZ7",
        "outputId": "4e94ba61-2b23-4274-e30a-2cca7c13b7a2"
      },
      "source": [
        "#@title # Trasladar notas a los alumnos\n",
        "#@markdown El siguente Notebook permite trasladar las líneas de un excel al nombre de alumno establecido en la primera columna y compartirlo con el correo de la segunda columna.\n",
        "#@markdown - El listado de alumnos comienza a partir de la línea X.\n",
        "#@markdown - Primera columna nombre del alumno, la cabecera (X primeras líneas) y la línea actual se copia a un excel dentro de una carpeta con este nombre\n",
        "#@markdown - Segunda columna correo del alumno para compartir la carpeta.\n",
        "\n",
        "#@markdown Las *notas* de las celtas excel aparecen como comentarios, \n",
        "#@markdown el alumnado puede resolverlas y agregar comentarios. \n",
        "#@markdown De esta manera se fomenta el proceso de retroalimentación\n",
        " \n",
        "\n",
        "import os\n",
        "from google.colab import drive as colabdrive\n",
        "# Import PyDrive and associated libraries.\n",
        "# This only needs to be done once per notebook.\n",
        "from pydrive.auth import GoogleAuth\n",
        "from pydrive.drive import GoogleDrive\n",
        "from google.colab import auth\n",
        "from oauth2client.client import GoogleCredentials\n",
        "# Copy grades to excel\n",
        "!pip install openpyxl > /dev/null\n",
        "import openpyxl\n",
        "import pandas as pd\n",
        "import time\n",
        "from shutil import copyfile\n",
        "from openpyxl import load_workbook\n",
        "\n",
        "def connectgdrive(): \n",
        "  colabdrive.flush_and_unmount()\n",
        "  colabdrive.mount('/content/drive', force_remount=True)\n",
        "\n",
        "\n",
        "def sdkaccess():\n",
        "  auth.authenticate_user()\n",
        "  gauth = GoogleAuth()\n",
        "  gauth.credentials = GoogleCredentials.get_application_default()\n",
        "  drive = GoogleDrive(gauth)\n",
        "  return drive\n",
        "\n",
        "\n",
        "\n",
        "def search(drive):\n",
        "  listed = drive.ListFile({'q': \"title contains '\"+filenombre_excel_notas+\"'\"}).GetList()\n",
        "  try: \n",
        "    # Last modified file\n",
        "    file = listed[0]\n",
        "    #print(file['id'])\n",
        "    file_id = file['id']\n",
        "    print(\"Archivo de notas localizado exitosamente!\")\n",
        "    '''print(file_id)\n",
        "    for file in listed:\n",
        "      file_id = file['id']\n",
        "      if(file_id) :\n",
        "          print(file)\n",
        "          print(\"Archivo de notas localizado exitosamente!\")\n",
        "    '''\n",
        "\n",
        "    downloaded = drive.CreateFile({'id': file_id})\n",
        "    downloaded.GetContentFile(filenombre_excel_notas)\n",
        "  except:\n",
        "    print(\"no se ha localizado el archivo de notas \"+ filenombre_excel_notas)\n",
        "\n",
        "\n",
        "def copygrades():\n",
        "  # Read Excel translate to temporary csv\n",
        "  os.chdir('/content')\n",
        "  read_file  = pd.read_excel(filenombre_excel_notas)\n",
        "  read_file.to_csv (r'tmp.csv', index = None, header=None)\n",
        "  df = pd.read_csv('tmp.csv')\n",
        "  os.remove('tmp.csv')\n",
        "  wb_obj = openpyxl.load_workbook(filenombre_excel_notas)\n",
        "  ws_obj = wb_obj.worksheets[0]\n",
        "  ###\n",
        "  ## Process of tranlating notes to students folder\n",
        "  ###\n",
        "  print(\"Comienza el proceso de trasladar las notas al alumnado\")\n",
        "  for index, row in df.iloc[numero_cabecera-2:].iterrows():\n",
        "    # Get name to create the folder and contact mail\n",
        "    name = row.values[0]  \n",
        "    email = row.values[1]\n",
        "    # Creation of students folder\n",
        "    print(\"\\t - Trasladando notas al alumn@  \"+name)\n",
        "    try: \n",
        "      os.chdir(path)\n",
        "      if not os.path.isdir(name) :\n",
        "          print(\"\\t\\t Primera vez que se trasladan las notas, creación del directorio del alumn@\")\n",
        "          os.mkdir(name)\n",
        "          time.sleep(1)\n",
        "\n",
        "      os.chdir(name)\n",
        "      # Transformar from numpy.ndarray to excel values\n",
        "      row_list = row.values.tolist()\n",
        "\n",
        "      file_name = name+\"__\"+filenombre_excel_notas\n",
        "      ## COPY TEMPLATE\n",
        "      template=\"..//\"+plantilla_cabecera+\".xlsx\"\n",
        "      try :\n",
        "        copyfile(template, file_name)\n",
        "        time.sleep(1)\n",
        "        ## COPY TEMPLATE\n",
        "        # Creation of excel\n",
        "        wb = load_workbook(file_name)\n",
        "        # Select First Worksheet\n",
        "        ws = wb.worksheets[0]\n",
        "        #ws.append(new_row_data) \n",
        "        # Add row in specific index\n",
        "        for idx, val in enumerate(row_list):\n",
        "          ##ws.cell(row=numero_cabecera+1, column=idx+1, value=val)\n",
        "          ws.cell(row=numero_cabecera+1, column=idx+1).value = ws_obj.cell(row=index+numero_cabecera-2, column=idx+1).value\n",
        "          ws.cell(row=numero_cabecera+1, column=idx+1).comment =ws_obj.cell(row=index+numero_cabecera-2, column=idx+1).comment\n",
        "\n",
        "      \n",
        "        wb.save(file_name)\n",
        "      except:\n",
        "        print(\"ERROR: Revisa el nombre del fichero plantilla: \"+template)\n",
        "        break\n",
        "    except:\n",
        "      print(\"ERROR: Revisa la ruta objetivo: \"+path)\n",
        "      break\n",
        "\n",
        "def share():\n",
        "  ###\n",
        "  ## Process of tranlating notes to students folder\n",
        "  ###\n",
        "  for index, row in df.iloc[numero_cabecera-2:].iterrows():\n",
        "    # Get name to create the folder and contact mail\n",
        "    name = row.values[0]  \n",
        "    email = row.values[1].strip()\n",
        "    # Creation of students folder\n",
        "    os.chdir(path)\n",
        "    os.chdir(name)\n",
        "    # Transformar from numpy.ndarray to excel values\n",
        "    row_list = row.values.tolist()\n",
        "    # file_name = name+filenombre_excel_notas\n",
        "    listed = drive.ListFile({'q': \"title contains '\"+name+\"'\"}).GetList()\n",
        "    # Get las modified version\n",
        "    file = listed[0]\n",
        "    print(\"Compartiendo notas con \"+email)\n",
        "    try:\n",
        "      file.InsertPermission({'type': 'user','value': email,'role': 'writer'})\n",
        "    except:\n",
        "      print(\"An exception occurred with email\",email)\n",
        "\n",
        "print(\"Funcionalidades inicializadas...\")"
      ],
      "execution_count": 23,
      "outputs": [
        {
          "output_type": "stream",
          "name": "stdout",
          "text": [
            "Funcionalidades inicializadas...\n"
          ]
        }
      ]
    },
    {
      "cell_type": "code",
      "metadata": {
        "id": "3yDMOKIgSGPE",
        "cellView": "form"
      },
      "source": [
        "#@markdown ## Ubicación en GDrive\n",
        "#@markdown Introduce la ubicación donde se encuentra el EXCEL de notas trasladar a los alumnos.\n",
        "#@markdown *En caso de especificar la ruta completa el proceso será maś rápido*\n",
        "\n",
        "\n",
        "#@markdown ### Introduce la ruta al directorio\n",
        "ruta_directorio = \"4Vientos/2021/Notak/2DAM_DW\" #@param {type:\"string\"} \n",
        "path =  \"/content/drive/MyDrive/\"+ruta_directorio\n",
        "#@markdown ### Introduce nombre del archivo EXCEL:\n",
        "nombre_excel_notas = \"2122_proyectointegradorEv01\" #@param {type:\"string\"} \n",
        "filenombre_excel_notas = nombre_excel_notas+'.xlsx'\n",
        "\n",
        "#@markdown ## Cabecera:\n",
        "#@markdown ### Introduce el nombre del archivo plantilla:\n",
        "plantilla_cabecera =  \"2122_TMP_proyectointegradorEv01\"#@param {type:\"string\"} \n",
        "#@markdown ### Introduce el número de líneas de cabecera:\n",
        "numero_cabecera =  5#@param {type:\"number\"} \n",
        "# numero_cabecera -= 1\n"
      ],
      "execution_count": 24,
      "outputs": []
    },
    {
      "cell_type": "code",
      "metadata": {
        "id": "UAlI5iS4MUr4",
        "colab": {
          "base_uri": "https://localhost:8080/"
        },
        "cellView": "form",
        "outputId": "aa4003ea-7f98-4a41-bf36-3658f99ef1ba"
      },
      "source": [
        "#@markdown ## Validar cuenta de Google \n",
        "#@markdown *Se solicita 2 veces la validación*\n",
        "try :\n",
        "  print(\"A continuación debes acceder a la URL que aparezca\")\n",
        "  print(\"Despues, valida tu cuenta y pega el código de confirmación en la cajetilla\")\n",
        "  connectgdrive()\n",
        "except:\n",
        "  print(\"ERROR: Conectando a Google Drive. \")\n",
        "\n",
        "try:\n",
        "  print(\"Repite el proceso de validación para dar acceso al SDK de Google Drive\")\n",
        "  drive = sdkaccess()\n",
        "except:\n",
        "  print(\"ERROR: Obteniendo permisos de acceso al SDK de Google Drive\")\n",
        "\n",
        "\n"
      ],
      "execution_count": 25,
      "outputs": [
        {
          "output_type": "stream",
          "name": "stdout",
          "text": [
            "A continuación debes acceder a la URL que aparezca\n",
            "Despues, valida tu cuenta y pega el código de confirmación en la cajetilla\n",
            "Mounted at /content/drive\n",
            "Repite el proceso de validación para dar acceso al SDK de Google Drive\n"
          ]
        }
      ]
    },
    {
      "cell_type": "code",
      "metadata": {
        "colab": {
          "base_uri": "https://localhost:8080/"
        },
        "cellView": "form",
        "id": "tucU3aqXqloW",
        "outputId": "1505ef5f-5351-45e3-a44a-8a62612cb9f9"
      },
      "source": [
        "\n",
        "#@markdown ## Buscar fichero de notas\n",
        "search(drive)"
      ],
      "execution_count": 26,
      "outputs": [
        {
          "output_type": "stream",
          "name": "stdout",
          "text": [
            "Archivo de notas localizado exitosamente!\n"
          ]
        }
      ]
    },
    {
      "cell_type": "code",
      "metadata": {
        "id": "39HEjP0ibCZL",
        "colab": {
          "base_uri": "https://localhost:8080/"
        },
        "cellView": "form",
        "outputId": "5003f273-71f3-4232-a869-07ba21d4b576"
      },
      "source": [
        "\n",
        "#@markdown ## Copiar notas de manera individual para los alumnos\n",
        "#@markdown A continuación se realiza el proceso de trasladar cada una de las líneas con notas de alumnos a una carpeta con el nombre del alumno.\n",
        "#@markdown En la carpeta se genera un excel y se copian las líneas de cabecera junto la nota del alumno\n",
        "copygrades()"
      ],
      "execution_count": 27,
      "outputs": [
        {
          "output_type": "stream",
          "name": "stdout",
          "text": [
            "Comineza el proceso de trasladar las notas al alumnado\n",
            "\t - Trasladando notas al alumn@  Bouazdia, Nabil\n",
            "\t - Trasladando notas al alumn@  Elorza Agusti, Asier\n",
            "\t - Trasladando notas al alumn@  Erdozáin Carrascal, Gorka\n",
            "\t - Trasladando notas al alumn@  Fernandez Moriones, Pablo\n",
            "\t - Trasladando notas al alumn@  Gallego López, Óscar\n",
            "\t - Trasladando notas al alumn@  Garcia Salas, Ruben\n",
            "\t - Trasladando notas al alumn@  Ibáñez Iglesias, Mario\n",
            "\t - Trasladando notas al alumn@  Larrea Sada, Iker\n",
            "\t - Trasladando notas al alumn@  Marín Falcon, Ariel\n",
            "\t - Trasladando notas al alumn@  Nieto Jimenez, Javier\n",
            "\t - Trasladando notas al alumn@  Parra Purroy, Alex\n",
            "\t - Trasladando notas al alumn@  Puerta Cabiró, Miguel\n",
            "\t - Trasladando notas al alumn@  Rondón Hernandez, Armando\n",
            "\t - Trasladando notas al alumn@  Trigo Cizur, Eneko\n",
            "\t - Trasladando notas al alumn@  Zúñiga Sola, Pablo\n"
          ]
        }
      ]
    },
    {
      "cell_type": "code",
      "metadata": {
        "id": "rEK6NrEdMUUP",
        "cellView": "form"
      },
      "source": [
        "#@markdown ## Compartir las carpetas con los alumnos\n",
        "#@markdown Se notificará al alumnado vía mail\n",
        "share()"
      ],
      "execution_count": null,
      "outputs": []
    }
  ]
}